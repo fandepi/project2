{
 "cells": [
  {
   "cell_type": "markdown",
   "metadata": {},
   "source": [
    "### Q1: If the article uses multiple pictures to describe a core social problem, can we choose more than one picture to complete this project ?\n",
    "* Core problem: plastic in the food chain\n",
    "* Charts: <br>\n",
    "\\- Recovery rates of plastics <br>\n",
    "\\- Composition of municipal solid waste (MSW) disposed of at landfills <br>\n",
    "\\- Waste reduction framework plan <br>\n",
    "\\- ..."
   ]
  },
  {
   "cell_type": "markdown",
   "metadata": {},
   "source": [
    "### Q2: Can we treat pictures with dynamic effects as static pictures?\n",
    "For example: <br>\n",
    "The y-axis of this graph is a bit short, but when the mouse moves over a data point, the value of that point will be displayed. <br>\n",
    "When the mouse moves to a certain line, the color of other lines will become lighter.\n",
    "![jupyter](./2.1.png) ![jupyter](./2.2.png)"
   ]
  },
  {
   "cell_type": "markdown",
   "metadata": {},
   "source": [
    "### Q3: Can we change the picture type?\n",
    "For example: <br>\n",
    "We think that using line chart here can better show trend changes！\n",
    "![jupyter](./3.png)"
   ]
  }
 ],
 "metadata": {
  "kernelspec": {
   "display_name": "Python 3",
   "language": "python",
   "name": "python3"
  },
  "language_info": {
   "codemirror_mode": {
    "name": "ipython",
    "version": 3
   },
   "file_extension": ".py",
   "mimetype": "text/x-python",
   "name": "python",
   "nbconvert_exporter": "python",
   "pygments_lexer": "ipython3",
   "version": "3.9.0"
  }
 },
 "nbformat": 4,
 "nbformat_minor": 4
}
